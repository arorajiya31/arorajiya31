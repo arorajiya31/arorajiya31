{
  "nbformat": 4,
  "nbformat_minor": 0,
  "metadata": {
    "colab": {
      "provenance": [],
      "authorship_tag": "ABX9TyMd4v08gh/hpD3Nu3gaIVYK",
      "include_colab_link": true
    },
    "kernelspec": {
      "name": "python3",
      "display_name": "Python 3"
    },
    "language_info": {
      "name": "python"
    }
  },
  "cells": [
    {
      "cell_type": "markdown",
      "metadata": {
        "id": "view-in-github",
        "colab_type": "text"
      },
      "source": [
        "<a href=\"https://colab.research.google.com/github/arorajiya31/arorajiya31/blob/main/jiyalec2.ipynb\" target=\"_parent\"><img src=\"https://colab.research.google.com/assets/colab-badge.svg\" alt=\"Open In Colab\"/></a>"
      ]
    },
    {
      "cell_type": "code",
      "execution_count": null,
      "metadata": {
        "id": "6GQ-2RYkb0eM"
      },
      "outputs": [],
      "source": [
        "import math\n",
        "def CheckPrime(n):\n",
        " for i in range(2, int(math.sqrt(n)) + 1):\n",
        "  if  n % i == 0:\n",
        "   return 0\n",
        " return n\n",
        "\n",
        "def Main():\n",
        " sum=0\n",
        " n = int(input(\"Please enter value of n: \"))\n",
        " for i in range(2,n+1):\n",
        "  sum = sum+ CheckPrime(i)\n",
        "  #print(CheckPrime(i))\n",
        " print(sum)\n",
        "\n",
        "Main()"
      ]
    },
    {
      "cell_type": "code",
      "source": [
        "# hcf of two numbers\n",
        "a = int(input(\"Enter the first integer: \"))\n",
        "b = int(input(\"Enter the second integer: \"))\n",
        "n = min(a,b)\n",
        "for i in range(n,1,-1):\n",
        " if a%i==0 and b%i==0:\n",
        "   print(i)\n",
        "   break"
      ],
      "metadata": {
        "id": "IYwrz5FzcNO4"
      },
      "execution_count": null,
      "outputs": []
    },
    {
      "cell_type": "code",
      "source": [
        "import math as m\n",
        "print(m.sqrt(25))\n"
      ],
      "metadata": {
        "id": "hrsDuwYwcSiz"
      },
      "execution_count": null,
      "outputs": []
    },
    {
      "cell_type": "code",
      "source": [
        "import random as r\n",
        "print(142200000+round(10*r.random()))\n",
        "print(142200000+round(10*r.random()))\n",
        "print(142200000+round(10*r.random()))\n",
        "print(142200000+round(10*r.random()))\n",
        "print(142200000+round(10*r.random()))\n",
        "print(142200000+round(10*r.random()))\n",
        "#print (r.random())\n",
        "#print (r.random())\n",
        "#print (round(r.random(),4))"
      ],
      "metadata": {
        "id": "4C23kFSlcWpV"
      },
      "execution_count": null,
      "outputs": []
    },
    {
      "cell_type": "code",
      "source": [
        "import string as s\n",
        "import random as r\n",
        "#print (\"String --> \",s.ascii_letters)\n",
        "#passwd=r.sample(s.ascii_letters, 6)\n",
        "print (passwd)\n",
        "#passwd1=\"\".join(passwd)\n",
        "#print (\"password 1 is --> \",passwd1)\n",
        "#passwd2=\" \".join(passwd)\n",
        "#print (\"password 2 is --> \",passwd2)\n",
        "passwd3=\"*\".join(passwd)\n",
        "print (\"passwd3 --> \",passwd3)"
      ],
      "metadata": {
        "id": "1wzaOsTRcXlN"
      },
      "execution_count": null,
      "outputs": []
    },
    {
      "cell_type": "code",
      "source": [
        "import string as s\n",
        "import random as r\n",
        "#print (\"String + Digits --> \",s.ascii_letters + s.digits)\n",
        "mixPasswd=r.sample(s.ascii_letters + s.digits, 5)\n",
        "print (\"\\nSelected Str1 --> \",mixPasswd)  #  Selected Str1 -->  ['Y', 'G', '8', 'C', 'U']\n",
        "\n",
        "mixPasswd=\"\".join(mixPasswd)\n",
        "print (\"mixPasswd1 --> \",mixPasswd)"
      ],
      "metadata": {
        "id": "o8NXmeMAclQB"
      },
      "execution_count": null,
      "outputs": []
    },
    {
      "cell_type": "code",
      "source": [
        "CGPA={1:8.9, 2:5.6, 4:6.7, 7:9.1, 8:5.3}\n",
        "print(\"Dictionary      --> \", CGPA)\n",
        "print(\"Num of elements --> \", len(CGPA))\n",
        "print(\"CGPA of 1       --> \", CGPA[1])\n",
        "print(\"CGPA of 4       --> \", CGPA[4])\n",
        "print (\"CGPA of 7       --> \", CGPA[7])"
      ],
      "metadata": {
        "id": "A3BspHcdcqTB"
      },
      "execution_count": null,
      "outputs": []
    },
    {
      "cell_type": "code",
      "source": [
        "s = range(-10,-20,2)\n",
        "print(list(s))"
      ],
      "metadata": {
        "id": "ge3bSlaMdl_j"
      },
      "execution_count": null,
      "outputs": []
    }
  ]
}